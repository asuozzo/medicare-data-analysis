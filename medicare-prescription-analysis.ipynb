{
 "cells": [
  {
   "cell_type": "markdown",
   "metadata": {
    "collapsed": true
   },
   "source": [
    "## Medicare Part D Prescription Data Analysis\n",
    "\n",
    "By [Andrea Suozzo](https://twitter.com/asuozzo)\n",
    "\n",
    "\n",
    "Since 2013, the Centers for Medicare & Medicaid Services (CMS) has released [summary data](https://data.cms.gov/browse) on the prescribing habits of medical practitioners for their Medicare Part D patients. As of May 2017, datasets for 2013, 2014 and 2015 are available. CMS also releases an [overview document](https://www.cms.gov/Research-Statistics-Data-and-Systems/Statistics-Trends-and-Reports/Medicare-Provider-Charge-Data/Downloads/Prescriber_Methods.pdf) with information on data sources and methodology.\n",
    "\n",
    "To protect patient privacy, the government leaves blank patient and prescription numbers that total 10 or fewer. For our analysis, we filled in blank patient numbers using 5 wherever possible, but removed rows that contained more than one blank field.\n",
    "\n",
    "This approach eliminated some low-prescribing providers from the dataset, but allowed us to calculate and compare prescribing practices for the program as a whole.\n",
    "\n",
    "It's also important to note that Medicare Part D prescribing practices may not be representative of the state as a whole; those receiving Medicare are over 65, have a long-term disability or end-stage renal disease. Many, but not all, Medicare recipients have a Part D plan, which covers prescription drugs. At the end of 2015, 90,608 Vermonters — about 14 percent of the state's population — were on a Medicare Part D plan.\n",
    "\n",
    "This analysis is part of a _Seven Days_ story, [HEADLINE](https://www.sevendaysvt.com), published June 27, 2017."
   ]
  },
  {
   "cell_type": "code",
   "execution_count": 62,
   "metadata": {
    "collapsed": true
   },
   "outputs": [],
   "source": [
    "import pandas as pd\n",
    "import matplotlib\n",
    "import pylab\n",
    "import seaborn as sns\n",
    "%matplotlib inline"
   ]
  },
  {
   "cell_type": "markdown",
   "metadata": {},
   "source": [
    "Import processed datasets from data-prep notebook:"
   ]
  },
  {
   "cell_type": "code",
   "execution_count": 63,
   "metadata": {
    "collapsed": true
   },
   "outputs": [],
   "source": [
    "%run medicare-prescription-data-prep.ipynb"
   ]
  },
  {
   "cell_type": "markdown",
   "metadata": {},
   "source": [
    "### Analyzing New England Summary Data\n",
    "\n",
    "Take a look at whether New England doctors are changing prescribing habits for opioid patients in the Medicare Part D system. By dividing the total day supply and the total claim count by the number of opioid beneficiaries, we can see whether doctors are changing the amounts of opioids they're prescribing to their patients over the years."
   ]
  },
  {
   "cell_type": "code",
   "execution_count": 64,
   "metadata": {},
   "outputs": [
    {
     "data": {
      "text/html": [
       "<div>\n",
       "<style>\n",
       "    .dataframe thead tr:only-child th {\n",
       "        text-align: right;\n",
       "    }\n",
       "\n",
       "    .dataframe thead th {\n",
       "        text-align: left;\n",
       "    }\n",
       "\n",
       "    .dataframe tbody tr th {\n",
       "        vertical-align: top;\n",
       "    }\n",
       "</style>\n",
       "<table border=\"1\" class=\"dataframe\">\n",
       "  <thead>\n",
       "    <tr style=\"text-align: right;\">\n",
       "      <th></th>\n",
       "      <th>year</th>\n",
       "      <th>state</th>\n",
       "      <th>opioid_claim_count</th>\n",
       "      <th>opioid_day_supply</th>\n",
       "      <th>opioid_bene_count</th>\n",
       "      <th>opioid_days_per_bene</th>\n",
       "      <th>opioid_claims_per_bene</th>\n",
       "    </tr>\n",
       "  </thead>\n",
       "  <tbody>\n",
       "    <tr>\n",
       "      <th>0</th>\n",
       "      <td>2013</td>\n",
       "      <td>CT</td>\n",
       "      <td>671688.0</td>\n",
       "      <td>13483063.0</td>\n",
       "      <td>210233.0</td>\n",
       "      <td>64.133904</td>\n",
       "      <td>3.194969</td>\n",
       "    </tr>\n",
       "    <tr>\n",
       "      <th>1</th>\n",
       "      <td>2013</td>\n",
       "      <td>MA</td>\n",
       "      <td>1331244.0</td>\n",
       "      <td>27209500.0</td>\n",
       "      <td>429044.0</td>\n",
       "      <td>63.418903</td>\n",
       "      <td>3.102815</td>\n",
       "    </tr>\n",
       "    <tr>\n",
       "      <th>2</th>\n",
       "      <td>2013</td>\n",
       "      <td>ME</td>\n",
       "      <td>425795.0</td>\n",
       "      <td>8847778.0</td>\n",
       "      <td>120324.0</td>\n",
       "      <td>73.532944</td>\n",
       "      <td>3.538737</td>\n",
       "    </tr>\n",
       "    <tr>\n",
       "      <th>3</th>\n",
       "      <td>2013</td>\n",
       "      <td>NH</td>\n",
       "      <td>293762.0</td>\n",
       "      <td>5770328.0</td>\n",
       "      <td>85815.0</td>\n",
       "      <td>67.241485</td>\n",
       "      <td>3.423201</td>\n",
       "    </tr>\n",
       "    <tr>\n",
       "      <th>4</th>\n",
       "      <td>2013</td>\n",
       "      <td>RI</td>\n",
       "      <td>254915.0</td>\n",
       "      <td>4939949.0</td>\n",
       "      <td>76118.0</td>\n",
       "      <td>64.898565</td>\n",
       "      <td>3.348945</td>\n",
       "    </tr>\n",
       "    <tr>\n",
       "      <th>5</th>\n",
       "      <td>2013</td>\n",
       "      <td>VT</td>\n",
       "      <td>144746.0</td>\n",
       "      <td>2942171.0</td>\n",
       "      <td>35825.0</td>\n",
       "      <td>82.126197</td>\n",
       "      <td>4.040363</td>\n",
       "    </tr>\n",
       "    <tr>\n",
       "      <th>6</th>\n",
       "      <td>2014</td>\n",
       "      <td>CT</td>\n",
       "      <td>687547.0</td>\n",
       "      <td>13901283.0</td>\n",
       "      <td>221220.0</td>\n",
       "      <td>62.839178</td>\n",
       "      <td>3.107978</td>\n",
       "    </tr>\n",
       "    <tr>\n",
       "      <th>7</th>\n",
       "      <td>2014</td>\n",
       "      <td>MA</td>\n",
       "      <td>1356186.0</td>\n",
       "      <td>28120422.0</td>\n",
       "      <td>442287.0</td>\n",
       "      <td>63.579581</td>\n",
       "      <td>3.066303</td>\n",
       "    </tr>\n",
       "    <tr>\n",
       "      <th>8</th>\n",
       "      <td>2014</td>\n",
       "      <td>ME</td>\n",
       "      <td>427909.0</td>\n",
       "      <td>8978759.0</td>\n",
       "      <td>124874.0</td>\n",
       "      <td>71.902550</td>\n",
       "      <td>3.426726</td>\n",
       "    </tr>\n",
       "    <tr>\n",
       "      <th>9</th>\n",
       "      <td>2014</td>\n",
       "      <td>NH</td>\n",
       "      <td>304997.0</td>\n",
       "      <td>6113250.0</td>\n",
       "      <td>89956.0</td>\n",
       "      <td>67.958224</td>\n",
       "      <td>3.390513</td>\n",
       "    </tr>\n",
       "    <tr>\n",
       "      <th>10</th>\n",
       "      <td>2014</td>\n",
       "      <td>RI</td>\n",
       "      <td>243603.0</td>\n",
       "      <td>4795101.0</td>\n",
       "      <td>74340.0</td>\n",
       "      <td>64.502300</td>\n",
       "      <td>3.276877</td>\n",
       "    </tr>\n",
       "    <tr>\n",
       "      <th>11</th>\n",
       "      <td>2014</td>\n",
       "      <td>VT</td>\n",
       "      <td>152713.0</td>\n",
       "      <td>3128187.0</td>\n",
       "      <td>38124.0</td>\n",
       "      <td>82.052959</td>\n",
       "      <td>4.005692</td>\n",
       "    </tr>\n",
       "    <tr>\n",
       "      <th>12</th>\n",
       "      <td>2015</td>\n",
       "      <td>CT</td>\n",
       "      <td>685665.0</td>\n",
       "      <td>14022491.0</td>\n",
       "      <td>229191.0</td>\n",
       "      <td>61.182555</td>\n",
       "      <td>2.991675</td>\n",
       "    </tr>\n",
       "    <tr>\n",
       "      <th>13</th>\n",
       "      <td>2015</td>\n",
       "      <td>MA</td>\n",
       "      <td>1331669.0</td>\n",
       "      <td>27822695.0</td>\n",
       "      <td>443185.0</td>\n",
       "      <td>62.778964</td>\n",
       "      <td>3.004770</td>\n",
       "    </tr>\n",
       "    <tr>\n",
       "      <th>14</th>\n",
       "      <td>2015</td>\n",
       "      <td>ME</td>\n",
       "      <td>406289.0</td>\n",
       "      <td>8633992.0</td>\n",
       "      <td>124603.0</td>\n",
       "      <td>69.292007</td>\n",
       "      <td>3.260668</td>\n",
       "    </tr>\n",
       "    <tr>\n",
       "      <th>15</th>\n",
       "      <td>2015</td>\n",
       "      <td>NH</td>\n",
       "      <td>310252.0</td>\n",
       "      <td>6343919.0</td>\n",
       "      <td>94724.0</td>\n",
       "      <td>66.972668</td>\n",
       "      <td>3.275326</td>\n",
       "    </tr>\n",
       "    <tr>\n",
       "      <th>16</th>\n",
       "      <td>2015</td>\n",
       "      <td>RI</td>\n",
       "      <td>228945.0</td>\n",
       "      <td>4689386.0</td>\n",
       "      <td>73987.0</td>\n",
       "      <td>63.381216</td>\n",
       "      <td>3.094395</td>\n",
       "    </tr>\n",
       "    <tr>\n",
       "      <th>17</th>\n",
       "      <td>2015</td>\n",
       "      <td>VT</td>\n",
       "      <td>150903.0</td>\n",
       "      <td>3130195.0</td>\n",
       "      <td>38347.0</td>\n",
       "      <td>81.628159</td>\n",
       "      <td>3.935197</td>\n",
       "    </tr>\n",
       "  </tbody>\n",
       "</table>\n",
       "</div>"
      ],
      "text/plain": [
       "    year state  opioid_claim_count  opioid_day_supply  opioid_bene_count  \\\n",
       "0   2013    CT            671688.0         13483063.0           210233.0   \n",
       "1   2013    MA           1331244.0         27209500.0           429044.0   \n",
       "2   2013    ME            425795.0          8847778.0           120324.0   \n",
       "3   2013    NH            293762.0          5770328.0            85815.0   \n",
       "4   2013    RI            254915.0          4939949.0            76118.0   \n",
       "5   2013    VT            144746.0          2942171.0            35825.0   \n",
       "6   2014    CT            687547.0         13901283.0           221220.0   \n",
       "7   2014    MA           1356186.0         28120422.0           442287.0   \n",
       "8   2014    ME            427909.0          8978759.0           124874.0   \n",
       "9   2014    NH            304997.0          6113250.0            89956.0   \n",
       "10  2014    RI            243603.0          4795101.0            74340.0   \n",
       "11  2014    VT            152713.0          3128187.0            38124.0   \n",
       "12  2015    CT            685665.0         14022491.0           229191.0   \n",
       "13  2015    MA           1331669.0         27822695.0           443185.0   \n",
       "14  2015    ME            406289.0          8633992.0           124603.0   \n",
       "15  2015    NH            310252.0          6343919.0            94724.0   \n",
       "16  2015    RI            228945.0          4689386.0            73987.0   \n",
       "17  2015    VT            150903.0          3130195.0            38347.0   \n",
       "\n",
       "    opioid_days_per_bene  opioid_claims_per_bene  \n",
       "0              64.133904                3.194969  \n",
       "1              63.418903                3.102815  \n",
       "2              73.532944                3.538737  \n",
       "3              67.241485                3.423201  \n",
       "4              64.898565                3.348945  \n",
       "5              82.126197                4.040363  \n",
       "6              62.839178                3.107978  \n",
       "7              63.579581                3.066303  \n",
       "8              71.902550                3.426726  \n",
       "9              67.958224                3.390513  \n",
       "10             64.502300                3.276877  \n",
       "11             82.052959                4.005692  \n",
       "12             61.182555                2.991675  \n",
       "13             62.778964                3.004770  \n",
       "14             69.292007                3.260668  \n",
       "15             66.972668                3.275326  \n",
       "16             63.381216                3.094395  \n",
       "17             81.628159                3.935197  "
      ]
     },
     "execution_count": 64,
     "metadata": {},
     "output_type": "execute_result"
    }
   ],
   "source": [
    "nesummary['opioid_days_per_bene'] = nesummary['opioid_day_supply'] / nesummary['opioid_bene_count']\n",
    "nesummary['opioid_claims_per_bene'] = nesummary['opioid_claim_count'] / nesummary['opioid_bene_count']\n",
    "\n",
    "nesummary"
   ]
  },
  {
   "cell_type": "markdown",
   "metadata": {},
   "source": [
    "Compare the change in how many prescriptions each opioid-receiving patient is receiving from year to year:\n",
    "\n",
    "\n",
    "*Note: We chose to look primarily at the number of prescriptions per beneficiary, which shows similar trends to the number of days per beneficiary. Change the y value to 'opioid_days_per_bene' in charts that follow to examine those numbers.*"
   ]
  },
  {
   "cell_type": "code",
   "execution_count": 65,
   "metadata": {},
   "outputs": [
    {
     "data": {
      "image/png": "[encoded data removed]",
      "text/plain": [
       "<matplotlib.figure.Figure at 0x107a96450>"
      ]
     },
     "metadata": {},
     "output_type": "display_data"
    }
   ],
   "source": [
    "plot = sns.pointplot(x='year',y='opioid_claims_per_bene', hue='state', data=nesummary)\n",
    "plot.set(xlabel='Year', ylabel='Prescriptions')\n",
    "sns.plt.suptitle(\"Change in prescriptions per opioid patient in New England\")\n",
    "fig = plot.get_figure()\n",
    "\n",
    "# fig.savefig(\"statebystateclaims20132015.pdf\")"
   ]
  },
  {
   "cell_type": "code",
   "execution_count": 66,
   "metadata": {
    "scrolled": true
   },
   "outputs": [
    {
     "data": {
      "image/png": "[encoded data removed]",
      "text/plain": [
       "<matplotlib.figure.Figure at 0x106dc0fd0>"
      ]
     },
     "metadata": {},
     "output_type": "display_data"
    }
   ],
   "source": [
    "ne2015 = nesummary[nesummary['year'] == 2015].sort_values(by='opioid_claims_per_bene')\n",
    "\n",
    "ax = sns.barplot(x=\"state\", y=\"opioid_claims_per_bene\", data=ne2015, color=\"blue\")\n",
    "ax.set(xlabel='State', ylabel='Average claims per beneficiary')\n",
    "sns.plt.suptitle(\"Prescriptions per beneficiary in New England, 2015\")\n",
    "fig = ax.get_figure()\n",
    "\n",
    "# fig.savefig(\"statebystateclaims2015.pdf\")"
   ]
  },
  {
   "cell_type": "markdown",
   "metadata": {},
   "source": [
    "Pull out Vermont specifically:"
   ]
  },
  {
   "cell_type": "code",
   "execution_count": 67,
   "metadata": {},
   "outputs": [
    {
     "data": {
      "image/png": "[encoded data removed]",
      "text/plain": [
       "<matplotlib.figure.Figure at 0x10794cbd0>"
      ]
     },
     "metadata": {},
     "output_type": "display_data"
    }
   ],
   "source": [
    "vermontsummary = nesummary[nesummary['state'] == 'VT']\n",
    "\n",
    "plot = sns.pointplot(x='year',y='opioid_claims_per_bene', data=vermontsummary)\n",
    "pylab.ylim([2,4.5])\n",
    "plot.set(xlabel='Year', ylabel='Prescriptions')\n",
    "sns.plt.suptitle(\"Prescriptions per opioid beneficiary in Vermont\")\n",
    "fig = plot.get_figure()\n",
    "\n",
    "# fig.savefig(\"Vermontclaims20132015.pdf\")"
   ]
  },
  {
   "cell_type": "code",
   "execution_count": 68,
   "metadata": {},
   "outputs": [
    {
     "data": {
      "image/png": "[encoded data removed]",
      "text/plain": [
       "<matplotlib.figure.Figure at 0x107f78510>"
      ]
     },
     "metadata": {},
     "output_type": "display_data"
    }
   ],
   "source": [
    "plot = sns.pointplot(x='year',y='opioid_days_per_bene', data=vermontsummary)\n",
    "pylab.ylim([70,90])\n",
    "plot.set(xlabel='Year', ylabel='Average days per beneficiary')\n",
    "fig = plot.get_figure()\n",
    "\n",
    "# fig.savefig(\"Vermontclaims20132015.pdf\")"
   ]
  },
  {
   "cell_type": "markdown",
   "metadata": {},
   "source": [
    "### Analyzing Vermont opioid prescription type data\n",
    "\n",
    "Our overall prescription analyses can only tell us so much — because maintenance drugs are prescribed for a longer time than other drugs, we can't necessarily see the more nuanced changes in prescribing practices.\n",
    "\n",
    "To get to this analysis, we used a dataset that breaks down each doctor's Medicare Part D prescriptions by drug. As this breaks the data into more subsets, we also end up with more beneficiary counts that come in under 11, and more suppressed data. The dataset also doesn't contain rows where doctors wrote fewer than 11 prescriptions for any drug, so we're also dealing with an unknown quantity of missing data for lower prescribers.\n",
    "\n",
    "This analysis is conducted with a limited dataset, and we don't have enough information to say whether or not these trends hold true on the state level. See story (LINK HERE) for more on the data that is and is not available."
   ]
  },
  {
   "cell_type": "code",
   "execution_count": 69,
   "metadata": {
    "scrolled": true
   },
   "outputs": [
    {
     "data": {
      "text/html": [
       "<div>\n",
       "<style>\n",
       "    .dataframe thead tr:only-child th {\n",
       "        text-align: right;\n",
       "    }\n",
       "\n",
       "    .dataframe thead th {\n",
       "        text-align: left;\n",
       "    }\n",
       "\n",
       "    .dataframe tbody tr th {\n",
       "        vertical-align: top;\n",
       "    }\n",
       "</style>\n",
       "<table border=\"1\" class=\"dataframe\">\n",
       "  <thead>\n",
       "    <tr style=\"text-align: right;\">\n",
       "      <th></th>\n",
       "      <th>year</th>\n",
       "      <th>generic_name</th>\n",
       "      <th>type</th>\n",
       "      <th>bene_count</th>\n",
       "      <th>total_claim_count</th>\n",
       "      <th>total_day_supply</th>\n",
       "    </tr>\n",
       "  </thead>\n",
       "  <tbody>\n",
       "    <tr>\n",
       "      <th>0</th>\n",
       "      <td>2013</td>\n",
       "      <td>ACETAMINOPHEN WITH CODEINE</td>\n",
       "      <td>O</td>\n",
       "      <td>992.0</td>\n",
       "      <td>2617.0</td>\n",
       "      <td>41697.0</td>\n",
       "    </tr>\n",
       "    <tr>\n",
       "      <th>1</th>\n",
       "      <td>2013</td>\n",
       "      <td>BUPRENORPHINE</td>\n",
       "      <td>M</td>\n",
       "      <td>19.0</td>\n",
       "      <td>61.0</td>\n",
       "      <td>1366.0</td>\n",
       "    </tr>\n",
       "    <tr>\n",
       "      <th>2</th>\n",
       "      <td>2013</td>\n",
       "      <td>BUPRENORPHINE HCL</td>\n",
       "      <td>M</td>\n",
       "      <td>70.0</td>\n",
       "      <td>540.0</td>\n",
       "      <td>6374.0</td>\n",
       "    </tr>\n",
       "    <tr>\n",
       "      <th>3</th>\n",
       "      <td>2013</td>\n",
       "      <td>BUPRENORPHINE HCL/NALOXONE HCL</td>\n",
       "      <td>M</td>\n",
       "      <td>628.0</td>\n",
       "      <td>8030.0</td>\n",
       "      <td>98887.0</td>\n",
       "    </tr>\n",
       "    <tr>\n",
       "      <th>4</th>\n",
       "      <td>2013</td>\n",
       "      <td>BUTALBIT/ACETAMIN/CAFF/CODEINE</td>\n",
       "      <td>O</td>\n",
       "      <td>5.0</td>\n",
       "      <td>14.0</td>\n",
       "      <td>378.0</td>\n",
       "    </tr>\n",
       "  </tbody>\n",
       "</table>\n",
       "</div>"
      ],
      "text/plain": [
       "   year                    generic_name type  bene_count  total_claim_count  \\\n",
       "0  2013      ACETAMINOPHEN WITH CODEINE    O       992.0             2617.0   \n",
       "1  2013                   BUPRENORPHINE    M        19.0               61.0   \n",
       "2  2013               BUPRENORPHINE HCL    M        70.0              540.0   \n",
       "3  2013  BUPRENORPHINE HCL/NALOXONE HCL    M       628.0             8030.0   \n",
       "4  2013  BUTALBIT/ACETAMIN/CAFF/CODEINE    O         5.0               14.0   \n",
       "\n",
       "   total_day_supply  \n",
       "0           41697.0  \n",
       "1            1366.0  \n",
       "2            6374.0  \n",
       "3           98887.0  \n",
       "4             378.0  "
      ]
     },
     "execution_count": 69,
     "metadata": {},
     "output_type": "execute_result"
    }
   ],
   "source": [
    "opioidsummary.head()"
   ]
  },
  {
   "cell_type": "code",
   "execution_count": 70,
   "metadata": {},
   "outputs": [
    {
     "data": {
      "text/html": [
       "<div>\n",
       "<style>\n",
       "    .dataframe thead tr:only-child th {\n",
       "        text-align: right;\n",
       "    }\n",
       "\n",
       "    .dataframe thead th {\n",
       "        text-align: left;\n",
       "    }\n",
       "\n",
       "    .dataframe tbody tr th {\n",
       "        vertical-align: top;\n",
       "    }\n",
       "</style>\n",
       "<table border=\"1\" class=\"dataframe\">\n",
       "  <thead>\n",
       "    <tr style=\"text-align: right;\">\n",
       "      <th></th>\n",
       "      <th>year</th>\n",
       "      <th>type</th>\n",
       "      <th>bene_count</th>\n",
       "      <th>total_claim_count</th>\n",
       "      <th>total_day_supply</th>\n",
       "      <th>days_per_bene</th>\n",
       "      <th>claims_per_bene</th>\n",
       "    </tr>\n",
       "  </thead>\n",
       "  <tbody>\n",
       "    <tr>\n",
       "      <th>0</th>\n",
       "      <td>2013</td>\n",
       "      <td>A</td>\n",
       "      <td>23922.0</td>\n",
       "      <td>92086.0</td>\n",
       "      <td>1864783.0</td>\n",
       "      <td>77.952638</td>\n",
       "      <td>3.849427</td>\n",
       "    </tr>\n",
       "    <tr>\n",
       "      <th>1</th>\n",
       "      <td>2013</td>\n",
       "      <td>M</td>\n",
       "      <td>1718.0</td>\n",
       "      <td>14232.0</td>\n",
       "      <td>244641.0</td>\n",
       "      <td>142.398719</td>\n",
       "      <td>8.284051</td>\n",
       "    </tr>\n",
       "    <tr>\n",
       "      <th>2</th>\n",
       "      <td>2013</td>\n",
       "      <td>O</td>\n",
       "      <td>7969.0</td>\n",
       "      <td>28554.0</td>\n",
       "      <td>635601.0</td>\n",
       "      <td>79.759192</td>\n",
       "      <td>3.583135</td>\n",
       "    </tr>\n",
       "    <tr>\n",
       "      <th>3</th>\n",
       "      <td>2014</td>\n",
       "      <td>A</td>\n",
       "      <td>24857.0</td>\n",
       "      <td>97684.0</td>\n",
       "      <td>1990667.0</td>\n",
       "      <td>80.084765</td>\n",
       "      <td>3.929839</td>\n",
       "    </tr>\n",
       "    <tr>\n",
       "      <th>4</th>\n",
       "      <td>2014</td>\n",
       "      <td>M</td>\n",
       "      <td>1844.0</td>\n",
       "      <td>15860.0</td>\n",
       "      <td>259986.0</td>\n",
       "      <td>140.990239</td>\n",
       "      <td>8.600868</td>\n",
       "    </tr>\n",
       "    <tr>\n",
       "      <th>5</th>\n",
       "      <td>2014</td>\n",
       "      <td>O</td>\n",
       "      <td>9057.0</td>\n",
       "      <td>30683.0</td>\n",
       "      <td>699037.0</td>\n",
       "      <td>77.181959</td>\n",
       "      <td>3.387766</td>\n",
       "    </tr>\n",
       "    <tr>\n",
       "      <th>6</th>\n",
       "      <td>2015</td>\n",
       "      <td>A</td>\n",
       "      <td>24227.0</td>\n",
       "      <td>95038.0</td>\n",
       "      <td>1978849.0</td>\n",
       "      <td>81.679490</td>\n",
       "      <td>3.922813</td>\n",
       "    </tr>\n",
       "    <tr>\n",
       "      <th>7</th>\n",
       "      <td>2015</td>\n",
       "      <td>M</td>\n",
       "      <td>1752.0</td>\n",
       "      <td>15757.0</td>\n",
       "      <td>252371.0</td>\n",
       "      <td>144.047374</td>\n",
       "      <td>8.993721</td>\n",
       "    </tr>\n",
       "    <tr>\n",
       "      <th>8</th>\n",
       "      <td>2015</td>\n",
       "      <td>O</td>\n",
       "      <td>9734.0</td>\n",
       "      <td>31492.0</td>\n",
       "      <td>716439.0</td>\n",
       "      <td>73.601705</td>\n",
       "      <td>3.235258</td>\n",
       "    </tr>\n",
       "  </tbody>\n",
       "</table>\n",
       "</div>"
      ],
      "text/plain": [
       "   year type  bene_count  total_claim_count  total_day_supply  days_per_bene  \\\n",
       "0  2013    A     23922.0            92086.0         1864783.0      77.952638   \n",
       "1  2013    M      1718.0            14232.0          244641.0     142.398719   \n",
       "2  2013    O      7969.0            28554.0          635601.0      79.759192   \n",
       "3  2014    A     24857.0            97684.0         1990667.0      80.084765   \n",
       "4  2014    M      1844.0            15860.0          259986.0     140.990239   \n",
       "5  2014    O      9057.0            30683.0          699037.0      77.181959   \n",
       "6  2015    A     24227.0            95038.0         1978849.0      81.679490   \n",
       "7  2015    M      1752.0            15757.0          252371.0     144.047374   \n",
       "8  2015    O      9734.0            31492.0          716439.0      73.601705   \n",
       "\n",
       "   claims_per_bene  \n",
       "0         3.849427  \n",
       "1         8.284051  \n",
       "2         3.583135  \n",
       "3         3.929839  \n",
       "4         8.600868  \n",
       "5         3.387766  \n",
       "6         3.922813  \n",
       "7         8.993721  \n",
       "8         3.235258  "
      ]
     },
     "execution_count": 70,
     "metadata": {},
     "output_type": "execute_result"
    }
   ],
   "source": [
    "opioidtypesummary = opioidsummary.groupby(['year', 'type'], as_index=False).sum()\n",
    "opioidtypesummary['days_per_bene'] = opioidtypesummary['total_day_supply']/opioidtypesummary['bene_count']\n",
    "opioidtypesummary['claims_per_bene'] = opioidtypesummary['total_claim_count']/opioidtypesummary['bene_count']\n",
    "\n",
    "opioidtypesummary"
   ]
  },
  {
   "cell_type": "code",
   "execution_count": 71,
   "metadata": {},
   "outputs": [
    {
     "data": {
      "text/plain": [
       "<matplotlib.text.Text at 0x106ae6bd0>"
      ]
     },
     "execution_count": 71,
     "metadata": {},
     "output_type": "execute_result"
    },
    {
     "data": {
      "image/png": "[encoded data removed]",
      "text/plain": [
       "<matplotlib.figure.Figure at 0x107f68090>"
      ]
     },
     "metadata": {},
     "output_type": "display_data"
    }
   ],
   "source": [
    "g = sns.factorplot(x=\"year\", y=\"days_per_bene\", hue=\"type\", data=opioidtypesummary,\n",
    "                   size=6, kind=\"bar\", palette=\"muted\")\n",
    "g.set(xlabel='Year', ylabel='Days')\n",
    "g.fig.suptitle(\"Days per Opioid Patient, 2013-2015\")\n",
    "\n",
    "# g.savefig(\"medicationtypedays1315.pdf\")"
   ]
  },
  {
   "cell_type": "code",
   "execution_count": 72,
   "metadata": {},
   "outputs": [
    {
     "data": {
      "image/png": "[encoded data removed]",
      "text/plain": [
       "<matplotlib.figure.Figure at 0x10fe36ed0>"
      ]
     },
     "metadata": {},
     "output_type": "display_data"
    }
   ],
   "source": [
    "g = sns.factorplot(x=\"year\", y=\"claims_per_bene\", hue=\"type\", data=opioidtypesummary,\n",
    "                   size=6, kind=\"bar\", palette=\"muted\")\n",
    "g.set(xlabel='Year', ylabel='Average claims per beneficiary')\n",
    "g.fig.suptitle(\"Claims per Opioid Patient, 2013-2015\")\n",
    "\n",
    "g.savefig(\"medicationtypeclaims1315.pdf\")"
   ]
  },
  {
   "cell_type": "code",
   "execution_count": null,
   "metadata": {
    "collapsed": true
   },
   "outputs": [],
   "source": []
  }
 ],
 "metadata": {
  "kernelspec": {
   "display_name": "Python 2",
   "language": "python",
   "name": "python2"
  },
  "language_info": {
   "codemirror_mode": {
    "name": "ipython",
    "version": 2
   },
   "file_extension": ".py",
   "mimetype": "text/x-python",
   "name": "python",
   "nbconvert_exporter": "python",
   "pygments_lexer": "ipython2",
   "version": "2.7.13"
  }
 },
 "nbformat": 4,
 "nbformat_minor": 2
}
